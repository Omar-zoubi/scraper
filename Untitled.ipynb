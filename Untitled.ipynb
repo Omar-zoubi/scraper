{
 "cells": [
  {
   "cell_type": "code",
   "execution_count": 6,
   "id": "c304b17a-f79f-4e8a-b09c-6e0419d61d4e",
   "metadata": {},
   "outputs": [
    {
     "ename": "ModuleNotFoundError",
     "evalue": "No module named 'bs4'",
     "output_type": "error",
     "traceback": [
      "\u001b[0;31m---------------------------------------------------------------------------\u001b[0m",
      "\u001b[0;31mModuleNotFoundError\u001b[0m                       Traceback (most recent call last)",
      "\u001b[0;32m<ipython-input-6-10bb61e949d9>\u001b[0m in \u001b[0;36m<module>\u001b[0;34m\u001b[0m\n\u001b[1;32m      1\u001b[0m \u001b[0;32mimport\u001b[0m \u001b[0mrequests\u001b[0m\u001b[0;34m\u001b[0m\u001b[0;34m\u001b[0m\u001b[0m\n\u001b[0;32m----> 2\u001b[0;31m \u001b[0;32mfrom\u001b[0m \u001b[0mbs4\u001b[0m \u001b[0;32mimport\u001b[0m \u001b[0mBeautifulSoup\u001b[0m\u001b[0;34m\u001b[0m\u001b[0;34m\u001b[0m\u001b[0m\n\u001b[0m\u001b[1;32m      3\u001b[0m \u001b[0;34m\u001b[0m\u001b[0m\n\u001b[1;32m      4\u001b[0m \u001b[0mURL\u001b[0m \u001b[0;34m=\u001b[0m \u001b[0;34m'https://en.wikipedia.org/wiki/History_of_Mexico'\u001b[0m\u001b[0;34m\u001b[0m\u001b[0;34m\u001b[0m\u001b[0m\n\u001b[1;32m      5\u001b[0m \u001b[0;32mdef\u001b[0m \u001b[0mget_citation_needed_count\u001b[0m\u001b[0;34m(\u001b[0m\u001b[0mURL\u001b[0m\u001b[0;34m)\u001b[0m\u001b[0;34m:\u001b[0m\u001b[0;34m\u001b[0m\u001b[0;34m\u001b[0m\u001b[0m\n",
      "\u001b[0;31mModuleNotFoundError\u001b[0m: No module named 'bs4'"
     ]
    }
   ],
   "source": [
    "import requests\n",
    "from bs4 import BeautifulSoup\n",
    "\n",
    "URL = 'https://en.wikipedia.org/wiki/History_of_Mexico'\n",
    "def get_citation_needed_count(URL):\n",
    "    page = requests.get(URL)\n",
    "    soup = BeautifulSoup(page.content, 'html.parser')\n",
    "    key_word = soup.find_all('sup', class_=\"noprint Inline-Template Template-Fact\")\n",
    "    return len(key_word)\n",
    "\n",
    "\n",
    "fun=get_citation_needed_count(URL)\n",
    "print(fun)\n",
    "\n",
    "def get_citations_needed_report(URL):\n",
    "    page = requests.get(URL)\n",
    "    soup = BeautifulSoup(page.content, 'html.parser')\n",
    "    key_word = soup.find_all('sup', class_=\"noprint Inline-Template Template-Fact\")\n",
    "    sentence_list = []\n",
    "    result = []\n",
    "    count = 0\n",
    "    for i  in key_word:\n",
    "        if count == 0:\n",
    "            sentence_list.append(i.parent.text)\n",
    "            count = 1\n",
    "        else:\n",
    "            if i.parent.text in sentence_list:\n",
    "                continue\n",
    "            else:\n",
    "                sentence_list.append(i.parent.text)\n",
    "                count = count + 1\n",
    "    return sentence_list\n",
    "fun2= get_citations_needed_report(URL)\n",
    "print(fun2)"
   ]
  },
  {
   "cell_type": "code",
   "execution_count": null,
   "id": "0caf11f9-e363-47b9-bdf4-471209c21f23",
   "metadata": {},
   "outputs": [],
   "source": []
  },
  {
   "cell_type": "code",
   "execution_count": null,
   "id": "917a13d5-0e65-4db0-a8bc-5a22bf8dbc47",
   "metadata": {},
   "outputs": [],
   "source": []
  }
 ],
 "metadata": {
  "kernelspec": {
   "display_name": "Python 3",
   "language": "python",
   "name": "python3"
  },
  "language_info": {
   "codemirror_mode": {
    "name": "ipython",
    "version": 3
   },
   "file_extension": ".py",
   "mimetype": "text/x-python",
   "name": "python",
   "nbconvert_exporter": "python",
   "pygments_lexer": "ipython3",
   "version": "3.9.4"
  },
  "metadata": {
   "interpreter": {
    "hash": "fcce721e40fdf817c89ed58068f8fd7715754e64eff1aa555e4f81b82bb87bef"
   }
  }
 },
 "nbformat": 4,
 "nbformat_minor": 5
}
