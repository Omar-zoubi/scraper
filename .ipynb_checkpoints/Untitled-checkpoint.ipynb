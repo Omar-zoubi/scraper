{
 "cells": [
  {
   "cell_type": "code",
   "execution_count": 4,
   "id": "c304b17a-f79f-4e8a-b09c-6e0419d61d4e",
   "metadata": {},
   "outputs": [
    {
     "ename": "ModuleNotFoundError",
     "evalue": "No module named 'requests'",
     "output_type": "error",
     "traceback": [
      "\u001b[0;31m---------------------------------------------------------------------------\u001b[0m",
      "\u001b[0;31mModuleNotFoundError\u001b[0m                       Traceback (most recent call last)",
      "\u001b[0;32m<ipython-input-4-10795db325ff>\u001b[0m in \u001b[0;36m<module>\u001b[0;34m\u001b[0m\n\u001b[0;32m----> 1\u001b[0;31m \u001b[0;32mimport\u001b[0m \u001b[0mrequests\u001b[0m\u001b[0;34m\u001b[0m\u001b[0;34m\u001b[0m\u001b[0m\n\u001b[0m\u001b[1;32m      2\u001b[0m \u001b[0;31m# from bs4 import BeautifulSoup\u001b[0m\u001b[0;34m\u001b[0m\u001b[0;34m\u001b[0m\u001b[0;34m\u001b[0m\u001b[0m\n\u001b[1;32m      3\u001b[0m \u001b[0;34m\u001b[0m\u001b[0m\n\u001b[1;32m      4\u001b[0m \u001b[0;31m# URL = 'https://en.wikipedia.org/wiki/History_of_Mexico'\u001b[0m\u001b[0;34m\u001b[0m\u001b[0;34m\u001b[0m\u001b[0;34m\u001b[0m\u001b[0m\n\u001b[1;32m      5\u001b[0m \u001b[0;31m# def get_citation_needed_count(URL):\u001b[0m\u001b[0;34m\u001b[0m\u001b[0;34m\u001b[0m\u001b[0;34m\u001b[0m\u001b[0m\n",
      "\u001b[0;31mModuleNotFoundError\u001b[0m: No module named 'requests'"
     ]
    }
   ],
   "source": [
    "import requests\n",
    "from bs4 import BeautifulSoup\n",
    "\n",
    "URL = 'https://en.wikipedia.org/wiki/History_of_Mexico'\n",
    "def get_citation_needed_count(URL):\n",
    "    page = requests.get(URL)\n",
    "    soup = BeautifulSoup(page.content, 'html.parser')\n",
    "    key_word = soup.find_all('sup', class_=\"noprint Inline-Template Template-Fact\")\n",
    "    return len(key_word)\n",
    "\n",
    "\n",
    "fun=get_citation_needed_count(URL)\n",
    "print(fun)\n",
    "\n",
    "def get_citations_needed_report(URL):\n",
    "    page = requests.get(URL)\n",
    "    soup = BeautifulSoup(page.content, 'html.parser')\n",
    "    key_word = soup.find_all('sup', class_=\"noprint Inline-Template Template-Fact\")\n",
    "    sentence_list = []\n",
    "    result = []\n",
    "    count = 0\n",
    "    for i  in key_word:\n",
    "        if count == 0:\n",
    "            sentence_list.append(i.parent.text)\n",
    "            count = 1\n",
    "        else:\n",
    "            if i.parent.text in sentence_list:\n",
    "                continue\n",
    "            else:\n",
    "                sentence_list.append(i.parent.text)\n",
    "                count = count + 1\n",
    "    return sentence_list\n",
    "fun2= get_citations_needed_report(URL)\n",
    "print(fun2)\n",
    "\n",
    "\n",
    "\n",
    "\n",
    "\n",
    "\n",
    "def test_citations_counting():\n",
    "    assert get_citations_needed_count(\"https://en.wikipedia.org/wiki/History_of_Mexico\") == 5\n",
    "\n",
    "\n",
    "\n",
    "def test_citations_report():\n",
    "    assert get_citations_needed_report(\"https://en.wikipedia.org/wiki/History_of_Mexico\") == \"\\n\\nThis sentence need citation: Deer were found in this area, but most fauna were small land animals and fish and other lacustrine animals were found in the lake region.\\nand the full article is:\\n  The first people to settle in Mexico encountered a climate far milder than the current one. In particular, the Valley of Mexico contained several large paleo-lakes (known collectively as Lake Texcoco) surrounded by dense forest. Deer were found in this area, but most fauna were small land animals and fish and other lacustrine animals were found in the lake region.[citation needed][7] Such conditions encouraged the initial pursuit of a hunter-gatherer existence.\\n\\n\\nThis sentence need citation: They had migrated from the deserts north of the Rio Grande\\nand the full article is:\\n  The Mexica people arrived in the Valley of Mexico in 1248 AD. They had migrated from the deserts north of the Rio Grande[citation needed] over a period traditionally said to have been 100 years. They may have thought of themselves as the heirs to the prestigious civilizations that had preceded them.[citation needed] What the Aztec initially lacked in political power, they made up for with ambition and military skill. In 1325, they established the biggest city in the world at that time, Tenochtitlan.\\n\\n\\nThis sentence need citation: They may have thought of themselves as the heirs to the prestigious civilizations that had preceded them.\\nand the full article is:\\n  The Mexica people arrived in the Valley of Mexico in 1248 AD. They had migrated from the deserts north of the Rio Grande[citation needed] over a period traditionally said to have been 100 years. They may have thought of themselves as the heirs to the prestigious civilizations that had preceded them.[citation needed] What the Aztec initially lacked in political power, they made up for with ambition and military skill. In 1325, they established the biggest city in the world at that time, Tenochtitlan.\\n\\n\\nThis sentence need citation: Forty years after the conquest, the Tlaxcalteca had to pay the same tax as any other indigenous community.\\nand the full article is:\\n  The Spanish had no intention to turn over Tenochtitlan to the Tlaxcalteca. While Tlaxcalteca troops continued to help the Spaniards, and Tlaxcala received better treatment than other indigenous nations, the Spanish eventually disowned the treaty. Forty years after the conquest, the Tlaxcalteca had to pay the same tax as any other indigenous community.[citation needed]\\n\\n\\nThis sentence need citation: During the three centuries of colonial rule, fewer than 700,000 Spaniards, most of them men, settled in Mexico.\\nand the full article is:\\n  During the three centuries of colonial rule, fewer than 700,000 Spaniards, most of them men, settled in Mexico.[citation needed] Europeans, Africans, and indigenous intermixed, creating a mixed-race casta population in a process known as mestizaje. Mestizos, people of mixed European-indigenous ancestry, constitute the majority of Mexico's population.\\n\"\n"
   ]
  },
  {
   "cell_type": "code",
   "execution_count": null,
   "id": "0caf11f9-e363-47b9-bdf4-471209c21f23",
   "metadata": {},
   "outputs": [],
   "source": []
  },
  {
   "cell_type": "code",
   "execution_count": null,
   "id": "917a13d5-0e65-4db0-a8bc-5a22bf8dbc47",
   "metadata": {},
   "outputs": [],
   "source": []
  }
 ],
 "metadata": {
  "kernelspec": {
   "display_name": "Python 3",
   "language": "python",
   "name": "python3"
  },
  "language_info": {
   "codemirror_mode": {
    "name": "ipython",
    "version": 3
   },
   "file_extension": ".py",
   "mimetype": "text/x-python",
   "name": "python",
   "nbconvert_exporter": "python",
   "pygments_lexer": "ipython3",
   "version": "3.9.4"
  },
  "metadata": {
   "interpreter": {
    "hash": "fcce721e40fdf817c89ed58068f8fd7715754e64eff1aa555e4f81b82bb87bef"
   }
  }
 },
 "nbformat": 4,
 "nbformat_minor": 5
}
